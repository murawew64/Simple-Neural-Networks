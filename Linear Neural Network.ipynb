{
 "cells": [
  {
   "cell_type": "code",
   "execution_count": 3,
   "metadata": {},
   "outputs": [],
   "source": [
    "import numpy as np\n",
    "import math\n",
    "import scipy.special\n",
    "import pprint\n",
    "\n",
    "class LinearNeuralNetwork:\n",
    "    \n",
    "    def __init__(self, learningrate: float, inputnodes: int, outputnodes: int, hiddennodes_list: list = None):\n",
    "        '''Create neural network'''\n",
    "        \n",
    "        # create list that contains nodes count for every layer\n",
    "        \n",
    "        # if None - NN doesnt contains hidden layers\n",
    "        if hiddennodes_list is None or len(hiddennodes_list) == 0:\n",
    "            layers_list = [inputnodes, outputnodes]\n",
    "        else:\n",
    "            layers_list = [inputnodes] + hiddennodes_list + [outputnodes]\n",
    "        \n",
    "        # create weights matrix for every layer\n",
    "        self._weights = []\n",
    "        \n",
    "        # matrixs count = layers count - 1\n",
    "        # matrix = [row] x [column] = [next layer] x [previous layer] => range(len(layers_list) - 1)\n",
    "        \n",
    "        for i in range(len(layers_list) - 1):\n",
    "            self._weights.append(np.random.normal(0.0, math.pow(layers_list[i + 1], -0.5), \n",
    "                                                  (layers_list[i + 1], layers_list[i])))\n",
    "        # learning rate\n",
    "        self._lr = learningrate\n",
    "        \n",
    "        # activation function\n",
    "        self._act_func = lambda x: scipy.special.expit(x)\n",
    "    \n",
    "    def train(self, inputs_list, targets_list):\n",
    "        \n",
    "        inputs = np.array(inputs_list, ndmin=2).T\n",
    "        targets = np.array(targets_list, ndmin=2).T\n",
    "        \n",
    "        # COLLECT ALL OUTPUTS\n",
    "        \n",
    "        output_column = inputs\n",
    "        outputs_list = [inputs]\n",
    "        \n",
    "        for i in range(len(self._weights)):\n",
    "            if i != len(self._weights) - 1:\n",
    "                # apply sigmoid function\n",
    "                output_column = self._act_func(np.dot(self._weights[i], output_column))\n",
    "                outputs_list.append(output_column)\n",
    "            else:\n",
    "                # apply linear function\n",
    "                output_column = np.dot(self._weights[i], output_column)\n",
    "                outputs_list.append(output_column)\n",
    "        \n",
    "        # COLLECT ALL ERRORS\n",
    "        \n",
    "        output_errors = targets - output_column\n",
    "        errors_list = [output_errors]\n",
    "        \n",
    "        for wm in self._weights[:0:-1]:\n",
    "            output_errors = np.dot(wm.T, output_errors)\n",
    "            errors_list.insert(0, output_errors)\n",
    "        \n",
    "        # IMPROVE WEIGHTS IN MATRIX\n",
    "        \n",
    "        # сделал так, чтобы ничего не сломать\n",
    "        for i in range(len(self._weights)):\n",
    "            if i != len(self._weights) - 1:\n",
    "                self._weights[i] += self._lr * np.dot(errors_list[i] * outputs_list[i+1] * (1.0 - outputs_list[i+1]), \n",
    "                                                      outputs_list[i].T)      \n",
    "            else:\n",
    "                self._weights[i] += self._lr * np.dot(errors_list[i], outputs_list[i].T)\n",
    "    \n",
    "    def query(self, inputs):\n",
    "        '''Calculate result with inputs values'''\n",
    "        \n",
    "        # transform row in column to multiple on matrix\n",
    "        res_column = np.array(inputs, ndmin=2).T\n",
    "        \n",
    "        # by last layer i apply linear function\n",
    "        for i in range(len(self._weights) - 1):\n",
    "            res_column = self._act_func(np.dot(self._weights[i], res_column))\n",
    "        \n",
    "        # apply linear function\n",
    "        res_column = np.dot(self._weights[-1], res_column)\n",
    "        \n",
    "        return res_column        \n",
    "    \n",
    "    def print_layers(self):\n",
    "        \n",
    "        for wm in self._weights:\n",
    "            pprint.pprint(wm)\n",
    "            \n",
    "    @property\n",
    "    def weights(self):\n",
    "        #\n",
    "        return self._weights\n",
    "    \n",
    "    @weights.setter\n",
    "    def weights(self, weights):\n",
    "        #\n",
    "        self._weights = weights\n",
    "            "
   ]
  },
  {
   "cell_type": "code",
   "execution_count": 4,
   "metadata": {},
   "outputs": [
    {
     "name": "stdout",
     "output_type": "stream",
     "text": [
      "array([[-1.74377709,  0.0043588 ]])\n"
     ]
    }
   ],
   "source": [
    "nn = LinearNeuralNetwork(0.1, 2, 1, [])\n",
    "nn.print_layers()"
   ]
  },
  {
   "cell_type": "code",
   "execution_count": 233,
   "metadata": {},
   "outputs": [
    {
     "data": {
      "text/plain": [
       "array([[-0.3]])"
      ]
     },
     "execution_count": 233,
     "metadata": {},
     "output_type": "execute_result"
    }
   ],
   "source": [
    "nn.query([1, 2])"
   ]
  },
  {
   "cell_type": "code",
   "execution_count": null,
   "metadata": {},
   "outputs": [],
   "source": []
  }
 ],
 "metadata": {
  "kernelspec": {
   "display_name": "Python 3",
   "language": "python",
   "name": "python3"
  },
  "language_info": {
   "codemirror_mode": {
    "name": "ipython",
    "version": 3
   },
   "file_extension": ".py",
   "mimetype": "text/x-python",
   "name": "python",
   "nbconvert_exporter": "python",
   "pygments_lexer": "ipython3",
   "version": "3.7.6"
  }
 },
 "nbformat": 4,
 "nbformat_minor": 4
}
