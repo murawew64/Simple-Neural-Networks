{
 "cells": [
  {
   "cell_type": "code",
   "execution_count": 2,
   "metadata": {},
   "outputs": [],
   "source": [
    "import numpy as np\n",
    "import math\n",
    "import scipy.special\n",
    "import pprint\n",
    "\n",
    "class ComplicatedNeuralNetwork:\n",
    "    \n",
    "    def __init__(self, learningrate: float, inputnodes: int, outputnodes: int, hiddennodes_list: list = None):\n",
    "        '''Create neural network'''\n",
    "        \n",
    "        # create list that contains nodes count for every layer\n",
    "        \n",
    "        # if None - NN doesnt contains hidden layers\n",
    "        if hiddennodes_list is None or len(hiddennodes_list) == 0:\n",
    "            layers_list = [inputnodes, outputnodes]\n",
    "        else:\n",
    "            layers_list = [inputnodes] + hiddennodes_list + [outputnodes]\n",
    "        \n",
    "        # create weights matrix for every layer\n",
    "        self._weights = []\n",
    "        \n",
    "        # about matrix dimenshion:\n",
    "        # matrixs count = layers count - 1\n",
    "        # matrix = [row] x [column] = [next layer] x [previous layer] => range(len(layers_list) - 1)\n",
    "        \n",
    "        # create start weights\n",
    "        for i in range(len(layers_list) - 1):\n",
    "            self._weights.append(np.random.normal(0.0, math.pow(layers_list[i + 1], -0.5), \n",
    "                                                  (layers_list[i + 1], layers_list[i])))\n",
    "        # learning rate\n",
    "        self._lr = learningrate\n",
    "        \n",
    "        # activation function\n",
    "        self._act_func = lambda x: scipy.special.expit(x)\n",
    "    \n",
    "    def train(self, inputs_list, targets_list):\n",
    "        \n",
    "        inputs = np.array(inputs_list, ndmin=2).T\n",
    "        targets = np.array(targets_list, ndmin=2).T\n",
    "        \n",
    "        # COLLECT ALL OUTPUTS\n",
    "        \n",
    "        output_column = inputs\n",
    "        outputs_list = [inputs]\n",
    "        \n",
    "        for wm in self._weights:\n",
    "            output_column = self._act_func(np.dot(wm, output_column))\n",
    "            outputs_list.append(output_column)\n",
    "        \n",
    "        # COLLECT ALL ERRORS\n",
    "        \n",
    "        output_errors = targets - output_column\n",
    "        errors_list = [output_errors]\n",
    "        \n",
    "        for wm in self._weights[:0:-1]:\n",
    "            output_errors = np.dot(wm.T, output_errors)\n",
    "            errors_list.insert(0, output_errors)\n",
    "        \n",
    "        # IMPROVE WEIGHTS IN MATRIX\n",
    "        \n",
    "        for i in range(len(self._weights)):\n",
    "            self._weights[i] += self._lr * np.dot(errors_list[i] * outputs_list[i+1] * (1.0 - outputs_list[i+1]), \n",
    "                                                  outputs_list[i].T)      \n",
    "    \n",
    "    def query(self, inputs):\n",
    "        '''Calculate result with inputs values'''\n",
    "        \n",
    "        # transform row in column to multiple on matrix\n",
    "        res_column = np.array(inputs, ndmin=2).T\n",
    "        \n",
    "        for wm in self._weights:\n",
    "            res_column = self._act_func(np.dot(wm, res_column))\n",
    "        \n",
    "        return res_column        \n",
    "    \n",
    "    def print_layers(self):\n",
    "        \n",
    "        for wm in self._weights:\n",
    "            pprint.pprint(wm)\n",
    "            \n",
    "    @property\n",
    "    def weights(self):\n",
    "        #\n",
    "        return self._weights\n",
    "    \n",
    "    @weights.setter\n",
    "    def weights(self, weights):\n",
    "        #\n",
    "        self._weights = weights\n",
    "        "
   ]
  },
  {
   "cell_type": "code",
   "execution_count": 3,
   "metadata": {},
   "outputs": [
    {
     "name": "stdout",
     "output_type": "stream",
     "text": [
      "Layers:\n",
      "array([[ 1.37088393, -0.14577665]])\n",
      "array([[-0.52477637],\n",
      "       [-0.46452451]])\n",
      "array([[-0.46637727,  0.47940431],\n",
      "       [ 0.84382451, -0.61402119],\n",
      "       [ 0.14347606,  0.03665084]])\n",
      "array([[ 1.1863614 , -1.38075678,  0.43549985],\n",
      "       [-1.29707726,  1.41867368, -0.13054062]])\n",
      "\n",
      "Query result:  [[0.52479922]\n",
      " [0.50584423]]\n",
      "Layers:\n",
      "array([[ 1.37083851, -0.1458675 ]])\n",
      "array([[-0.52279599],\n",
      "       [-0.46626185]])\n",
      "array([[-0.46755473,  0.47820555],\n",
      "       [ 0.84522048, -0.61259997],\n",
      "       [ 0.14293575,  0.03610075]])\n",
      "array([[ 1.18480803, -1.38237578,  0.43389346],\n",
      "       [-1.29744419,  1.41829126, -0.13092006]])\n",
      "\n",
      "Query result:  [[0.52394386]\n",
      " [0.50594458]]\n"
     ]
    }
   ],
   "source": [
    "cn = ComplicatedNeuralNetwork(0.5, 2, 2, [1, 2, 3])\n",
    "print('Layers:')\n",
    "cn.print_layers()\n",
    "print()\n",
    "print('Query result: ', cn.query([0.1, 0.2]))\n",
    "cn.train([0.1, 0.2], [0.5, 0.5])\n",
    "print('Layers:')\n",
    "cn.print_layers()\n",
    "print()\n",
    "print('Query result: ', cn.query([0.1, 0.2]))"
   ]
  },
  {
   "cell_type": "code",
   "execution_count": 4,
   "metadata": {},
   "outputs": [
    {
     "name": "stdout",
     "output_type": "stream",
     "text": [
      "[0.52394386] [0.50594458]\n"
     ]
    }
   ],
   "source": [
    "res = cn.query([0.1, 0.2])\n",
    "print(res[0], res[1])"
   ]
  },
  {
   "cell_type": "code",
   "execution_count": null,
   "metadata": {},
   "outputs": [],
   "source": []
  }
 ],
 "metadata": {
  "kernelspec": {
   "display_name": "Python 3",
   "language": "python",
   "name": "python3"
  },
  "language_info": {
   "codemirror_mode": {
    "name": "ipython",
    "version": 3
   },
   "file_extension": ".py",
   "mimetype": "text/x-python",
   "name": "python",
   "nbconvert_exporter": "python",
   "pygments_lexer": "ipython3",
   "version": "3.7.6"
  }
 },
 "nbformat": 4,
 "nbformat_minor": 4
}
