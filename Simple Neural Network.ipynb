{
 "cells": [
  {
   "cell_type": "code",
   "execution_count": 42,
   "metadata": {},
   "outputs": [],
   "source": [
    "import numpy as np\n",
    "import math\n",
    "import scipy.special\n",
    "import pprint\n",
    "\n",
    "class NeuralNetwork:\n",
    "    \n",
    "    def __init__(self, inputnodes, hiddennodes, outputnodes, learningrate):\n",
    "        '''create neural network'''\n",
    "        \n",
    "        # nodes count in every layer\n",
    "        self._inodes = inputnodes\n",
    "        self._hnodes = hiddennodes\n",
    "        self._onodes = outputnodes\n",
    "        \n",
    "        # create matrix with coeffs for every layer (hidden and output)\n",
    "        \n",
    "        #self._wih = np.random.rand(hiddennodes, inputnodes)\n",
    "        #self._who = np.random.rand(outputnodes, hiddennodes)\n",
    "        \n",
    "        self._wih = np.random.normal(0.0, math.pow(hiddennodes, -0.5), (hiddennodes, inputnodes))\n",
    "        self._who = np.random.normal(0.0, math.pow(outputnodes, -0.5), (outputnodes, hiddennodes))\n",
    "        \n",
    "        # learning rate\n",
    "        self._lr = learningrate\n",
    "        \n",
    "        # activation function\n",
    "        self._act_func = lambda x: scipy.special.expit(x)\n",
    "    \n",
    "    def train(self, inputs, targets):\n",
    "        '''train neural network'''\n",
    "        \n",
    "        # FIRST STEP\n",
    "        \n",
    "        # calculate hidden layer\n",
    "        hidden_inputs = np.dot(self._wih, inputs)\n",
    "        hidden_outputs = self._act_func(hidden_inputs)\n",
    "        \n",
    "        # calculate output layer\n",
    "        final_inputs = np.dot(self._who, hidden_outputs)\n",
    "        final_outputs = self._act_func(final_inputs)\n",
    "        \n",
    "        # SECOND STEP\n",
    "        \n",
    "        # calculate errors in every layer\n",
    "        output_errors = targets - final_outputs\n",
    "        hidden_errors = np.dot(self._who.T, output_errors)\n",
    "        \n",
    "        # improve weights\n",
    "        # improve output layer weights\n",
    "        self._who += self._lr * np.dot(output_errors * final_outputs * (1.0 - final_outputs), np.transpose(hidden_outputs))\n",
    "        \n",
    "        # improve hidden layer weights\n",
    "        self._wih += self._lr * np.dot(hidden_errors * hidden_outputs * (1.0 - hidden_outputs), np.transpose(inputs))\n",
    "    \n",
    "    def query(self, inputs):\n",
    "        '''calculate result with inputs values'''\n",
    "        \n",
    "        # calculate hidden layer\n",
    "        hidden_inputs = np.dot(self._wih, inputs)\n",
    "        hidden_outputs = self._act_func(hidden_inputs)\n",
    "        \n",
    "        # calculate output layer\n",
    "        final_inputs = np.dot(self._who, hidden_outputs)\n",
    "        final_outputs = self._act_func(final_inputs)\n",
    "        \n",
    "        return final_outputs\n",
    "    \n",
    "    def print_layers(self):\n",
    "        \n",
    "        pprint.pprint(self._wih)\n",
    "        pprint.pprint(self._who)\n",
    "    "
   ]
  },
  {
   "cell_type": "code",
   "execution_count": 44,
   "metadata": {},
   "outputs": [
    {
     "name": "stdout",
     "output_type": "stream",
     "text": [
      "0.40049999999999997\n"
     ]
    }
   ],
   "source": [
    "# sklearn.metrics.mean_squared_error\n",
    "def square_neural_error(output_list, target_list):\n",
    "    \n",
    "    error = 0\n",
    "    for i in range(len(output_list)):\n",
    "        error += (target_list[i] - output_list[i])**2\n",
    "    return error\n",
    "\n",
    "def vector_errors(output_list, target_list):\n",
    "    \n",
    "    vc_errors = []\n",
    "    for i in range(len(output_list)):\n",
    "        vc_errors.append(target_list[i] - output_list[i])\n",
    "    return vc_errors\n",
    "\n",
    "res = square_neural_error([0.1, 0.2], [0.43, 0.74])\n",
    "print(res)"
   ]
  },
  {
   "cell_type": "code",
   "execution_count": 45,
   "metadata": {},
   "outputs": [
    {
     "name": "stdout",
     "output_type": "stream",
     "text": [
      "array([[ 0.33163234,  0.41425463],\n",
      "       [-0.43112368, -0.38508381]])\n",
      "array([[-0.42151975,  0.24480811],\n",
      "       [ 1.1940309 ,  0.34973259]])\n",
      "[0.4730484  0.68911464]\n",
      "vector errors:  [0.026951602828320265, -0.18911464110076925]\n",
      "square error:  0.036490736373688284\n",
      "[0.4726657  0.68876116]\n",
      "vector errors:  [0.02733430260118397, -0.18876115641815994]\n",
      "square error:  0.03637793827101413\n"
     ]
    }
   ],
   "source": [
    "n = NeuralNetwork(2, 2, 2, 0.1)\n",
    "n.print_layers()\n",
    "\n",
    "input_data = [0.1, 0.2]\n",
    "target_data = [0.5, 0.5]\n",
    "\n",
    "print(n.query(input_data))\n",
    "print('vector errors: ', vector_errors(n.query(input_data), target_data))\n",
    "print('square error: ', square_neural_error(n.query(input_data), target_data))\n",
    "\n",
    "n.train(input_data, target_data)\n",
    "\n",
    "print(n.query(input_data))\n",
    "print('vector errors: ', vector_errors(n.query(input_data), target_data))\n",
    "print('square error: ', square_neural_error(n.query(input_data), target_data))"
   ]
  },
  {
   "cell_type": "code",
   "execution_count": 34,
   "metadata": {},
   "outputs": [
    {
     "name": "stdout",
     "output_type": "stream",
     "text": [
      "[0.53952081 0.43711486]\n"
     ]
    }
   ],
   "source": [
    "import numpy as np\n",
    "vc1 = np.array([0.1, 0.2])\n",
    "arr1 = np.array([[0.21354411, 0.2739154], [-0.70620305, -0.98305482]])\n",
    "arr2 = [[0.12147773, 0.21994135], [-0.79444516, 0.36776349]]\n",
    "vc2 = scipy.special.expit(np.dot(arr1, vc1))\n",
    "res = scipy.special.expit(np.dot(arr2, vc2))\n",
    "print(res)\n"
   ]
  },
  {
   "cell_type": "code",
   "execution_count": null,
   "metadata": {},
   "outputs": [],
   "source": []
  }
 ],
 "metadata": {
  "kernelspec": {
   "display_name": "Python 3",
   "language": "python",
   "name": "python3"
  },
  "language_info": {
   "codemirror_mode": {
    "name": "ipython",
    "version": 3
   },
   "file_extension": ".py",
   "mimetype": "text/x-python",
   "name": "python",
   "nbconvert_exporter": "python",
   "pygments_lexer": "ipython3",
   "version": "3.7.6"
  }
 },
 "nbformat": 4,
 "nbformat_minor": 4
}
